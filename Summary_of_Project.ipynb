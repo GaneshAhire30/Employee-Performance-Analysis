{
 "cells": [
  {
   "cell_type": "markdown",
   "id": "20c43d44",
   "metadata": {},
   "source": [
    "# Employee Performance Analysis"
   ]
  },
  {
   "cell_type": "markdown",
   "id": "f8e4521e",
   "metadata": {},
   "source": [
    "## INX Future Inc."
   ]
  },
  {
   "cell_type": "markdown",
   "id": "a4c270a0",
   "metadata": {},
   "source": [
    "* **Candidate Name :-** Ganesh Sunil Ahire\n",
    "\n",
    "* **Candidate E-Mail :-** ganeshahire783@gmail.com\n",
    "\n",
    "* **Project Code :-** 10281\n",
    "\n",
    "* **REP Name :-** DataMites™ Solutions Pvt Ltd\n",
    "\n",
    "* **Assesment ID :-** E10901-PR2-V18\n",
    "\n",
    "* **Module :-** Certified Data Scientist - Project\n",
    "\n",
    "* **Exam Format :-** Open Project- IABAC™ Project Submission\n",
    "\n",
    "* **Project Assessment :-** IABAC™\n",
    "\n",
    "* **Registered Trainer :-** Ashok Kumar A\n",
    "\n",
    "* **Submission Deadline Date:-** 08-MAR-2023"
   ]
  },
  {
   "cell_type": "markdown",
   "id": "730d8923",
   "metadata": {},
   "source": [
    "# PROJECT SUMMARY :-"
   ]
  },
  {
   "cell_type": "markdown",
   "id": "10ff7978",
   "metadata": {},
   "source": [
    "## BUISNESSCASE & GOAL OF PROJECT: BASED ON GIVEN FEATURE OF DATASET WE NEED TO PREDICT THE PERFOMANCE RATING OF EMPLOYEE"
   ]
  },
  {
   "cell_type": "markdown",
   "id": "8ad35cf8",
   "metadata": {},
   "source": [
    "### INX Future Inc Employee Performance - Project :-\n",
    "The Data science project which is given here is an analysis of employee performance."
   ]
  },
  {
   "cell_type": "markdown",
   "id": "a832ed6b",
   "metadata": {},
   "source": [
    "**The Goal and Insights of the project are as follows :-**"
   ]
  },
  {
   "cell_type": "markdown",
   "id": "f6bd803b",
   "metadata": {},
   "source": [
    "* Department wise performances\n",
    "* Top 3 Important Factors effecting employee performance\n",
    "* A trained model which can predict the employee performance based on factors as inputs.\n"
   ]
  },
  {
   "cell_type": "markdown",
   "id": "3b02c216",
   "metadata": {},
   "source": [
    "This will be used to hire employees\n",
    "* Recommendations to improve the employee performance based on insights from analysis"
   ]
  },
  {
   "cell_type": "markdown",
   "id": "baf341fd",
   "metadata": {},
   "source": [
    "The given Employee dataset consist of 1200 rows. The features present in the data are 28 columns. The shape of the dataset is 1200x28. The 28 features are classified into quantitative and qualitative where 19 features are quantitative (11 columns consists numeric data & 8 columns consists ordinal data) and 8 features are qualitative. EmpNumber consist alphanumerical data (distinct values) which doesn't play a role as a relevant feature for performance rating."
   ]
  },
  {
   "cell_type": "markdown",
   "id": "21f72656",
   "metadata": {},
   "source": [
    "From Correlation we can get the important aspects of the data, Correlation between features and Performance Rating.Correlation is a statistical measure that expresses the extent to which two variables are linearly related.The analysis of the project has gone through the stage of Univariate,Bivariate & Multivariate analysis, correlation analysis and analysis by each department to satisfy the project goal."
   ]
  },
  {
   "cell_type": "markdown",
   "id": "48a9b727",
   "metadata": {},
   "source": [
    "The dataset consists of Categorical data and Numerical data. The Target variable consist of ordinal data, so this is a classification problem.The multiple machine learning model used in this project is Support vector classifier, Random forest classifier & Artifical neural network[Multilayer percepton]. from above all models Artifical neural network[Multilayer percepton] predicts higher accuracy 96.76%."
   ]
  },
  {
   "cell_type": "markdown",
   "id": "04290098",
   "metadata": {},
   "source": [
    "One of the important goal of this project is to find the important feature affecting the performance rating. The important features were predicted using the machine learning model feature importance technique. The main technique used in the preprocessing data using the Mannual & Frequency encoding method to convert the string - categorical data into numerical data, because, Most of machine learning methods are based on numerical methods where strings are not supportive. The overall project was performed and achieved the goals by using the machine learning model and visualization techniques."
   ]
  },
  {
   "cell_type": "markdown",
   "id": "38db1c14",
   "metadata": {},
   "source": [
    "## 1.  Requirement :-"
   ]
  },
  {
   "cell_type": "markdown",
   "id": "f6dd8eeb",
   "metadata": {},
   "source": [
    "The data was given from the IABAC for this project where the collected source is IABAC™. The data is based on INX Future Inc, (referred as INX ). It is one of the leading data analytics and automation solutions provider with over 15 years of global business presence. INX is consistently rated as top 20 best employers past 5 years. The data is not from the real organization. The whole project was done in Jupiter notebook with python platform."
   ]
  },
  {
   "cell_type": "markdown",
   "id": "4ec7f1ed",
   "metadata": {},
   "source": [
    "## 2. Analysis :-"
   ]
  },
  {
   "cell_type": "markdown",
   "id": "4eb92754",
   "metadata": {},
   "source": [
    "Data were analyzed by describing the features present in the data. the features play the bigger part in the analysis. The features tell the relation between the dependent and independent variables. Pandas also help to describe the datasets answering following questions early in our project. The data present in the dataset are divided into numerical and categorical data."
   ]
  },
  {
   "cell_type": "markdown",
   "id": "beeeec1b",
   "metadata": {},
   "source": [
    "## Categorical Features :-"
   ]
  },
  {
   "cell_type": "markdown",
   "id": "d6afd67c",
   "metadata": {},
   "source": [
    "* EmpNumber\n",
    "* Gender\n",
    "* EducationBackground\n",
    "* MaritalStatus\n",
    "* EmpDepartment\n",
    "* EmpJobRole\n",
    "* BusinessTravelFrequency\n",
    "* OverTime\n",
    "* Attrition"
   ]
  },
  {
   "cell_type": "markdown",
   "id": "230724e8",
   "metadata": {},
   "source": [
    "## Numerical Features :-"
   ]
  },
  {
   "cell_type": "markdown",
   "id": "2dbeea68",
   "metadata": {},
   "source": [
    "* Age\n",
    "* DistanceFromHome\n",
    "* EmpHourlyRate\n",
    "* NumCompaniesWorked\n",
    "* EmpLastSalaryHikePercent\n",
    "* TotalWorkExperienceInYears\n",
    "* TrainingTimesLastYear\n",
    "* ExperienceYearsAtThisCompany\n",
    "* ExperienceYearsInCurrentRole\n",
    "* YearsSinceLastPromotion\n",
    "* YearsWithCurrManager"
   ]
  },
  {
   "cell_type": "markdown",
   "id": "a0cc842e",
   "metadata": {},
   "source": [
    "## Ordinal Features :-"
   ]
  },
  {
   "cell_type": "markdown",
   "id": "e946c0ce",
   "metadata": {},
   "source": [
    "* EmpEducationLevel\n",
    "* EmpEnvironmentSatisfaction\n",
    "* EmpJobInvolvement\n",
    "* EmpJobLevel\n",
    "* EmpJobSatisfaction\n",
    "* EmpRelationshipSatisfaction\n",
    "* EmpWorkLifeBalance\n",
    "* PerformanceRating"
   ]
  },
  {
   "cell_type": "markdown",
   "id": "e58c54ab",
   "metadata": {},
   "source": [
    "## 3. Univariate, Bivariate & Multivariate Analysis :-"
   ]
  },
  {
   "cell_type": "markdown",
   "id": "49f06ab9",
   "metadata": {},
   "source": [
    "* Library Used: Matplotlib & Seaborn\n",
    "* Plots Used: Histplot, Lineplot, CountPlot, Barplot\n",
    "* Tip: All Observation or insights written below the plots"
   ]
  },
  {
   "cell_type": "markdown",
   "id": "c57af534",
   "metadata": {},
   "source": [
    "**Univariate Analysis :-** In univariate analysis we get the unique labels of categorical features, as well as get the range & density of numbers."
   ]
  },
  {
   "cell_type": "markdown",
   "id": "30093f42",
   "metadata": {},
   "source": [
    "**Bivariate Analysis :-** In bivariate analysis we check the feature relationship with target veriable.\n",
    "\n"
   ]
  },
  {
   "cell_type": "markdown",
   "id": "b8a4d977",
   "metadata": {},
   "source": [
    "**Multivariate Analysis :-** In multivariate Analysis check the relationship between two veriable with respect to the target veriable."
   ]
  },
  {
   "cell_type": "markdown",
   "id": "cc8bfc02",
   "metadata": {},
   "source": [
    "### CONCLUSION :-"
   ]
  },
  {
   "cell_type": "markdown",
   "id": "be95ca7d",
   "metadata": {},
   "source": [
    "* There are some features are positively correlated with performance rating( Target variable)\n"
   ]
  },
  {
   "cell_type": "markdown",
   "id": "1e55890a",
   "metadata": {},
   "source": [
    "[Emp Environment Satisfaction,Emp Last Salary Hike Percent,Emp Work Life Balance]"
   ]
  },
  {
   "cell_type": "markdown",
   "id": "50eba987",
   "metadata": {},
   "source": [
    "## 4.Explotary Data Analysis :-"
   ]
  },
  {
   "cell_type": "markdown",
   "id": "0d8deaf9",
   "metadata": {},
   "source": [
    "### Basic Check & Statistical Measures :-\n",
    " * Their is no constant column is present in Numerical as well as categoriacl data."
   ]
  },
  {
   "cell_type": "markdown",
   "id": "b82baaa5",
   "metadata": {},
   "source": [
    "### Distribution of Continuous Features :-"
   ]
  },
  {
   "cell_type": "markdown",
   "id": "671b5358",
   "metadata": {},
   "source": [
    "In general, one of the first few steps in exploring the data would be to have a rough idea of how the features are distributed with one another. To do so, we shall invoke the familiar distplot function from the Seaborn plotting library. The distribution has been done by both numerical features. it will show the overall idea about the density and majority of data present in a different level.\n",
    "\n",
    "* The age distribution is starting from 18 to 60 where the most of the employees are laying between 30 to 40 age count\n",
    "* Employees are worked in the multiple companies up to 8 companies where most of the employees worked up to 2 companies before getting to work here.\n",
    "* The hourly rate range is 65 to 95 for majority employees work in this company.\n",
    "* In General, Most of Employees work up to 5 years in this company. Most of the employees get 11% to 15% of salary hike in this company."
   ]
  },
  {
   "cell_type": "markdown",
   "id": "850879e0",
   "metadata": {},
   "source": [
    "### Check Skewness and Kurtosis of Numerical Features :-"
   ]
  },
  {
   "cell_type": "markdown",
   "id": "9f9ee29d",
   "metadata": {},
   "source": [
    "Checking weather the data is Normally distributed or Not with Skewness and Kurtosis,\n",
    "\n",
    "* YearsSinceLastPromotion, This column is skewed\n",
    "* skewness for YearsSinceLastPromotion: 1.9724620367914252\n",
    "* kurtosis for YearsSinceLastPromotion: 3.5193552691799805"
   ]
  },
  {
   "cell_type": "markdown",
   "id": "c49eaa36",
   "metadata": {},
   "source": [
    "### Distribution of Mean of Data :-\n",
    "* Distribution of mean close to guassian distribution with mean value 9.5\n",
    "* we can say that around 80% feature mean lies between 8.5 to 10.5"
   ]
  },
  {
   "cell_type": "markdown",
   "id": "7562e74f",
   "metadata": {},
   "source": [
    "### Distribution of Standard Deviation of Data :-\n",
    "Distribution of standard deviation of data also look like guassian distribution around 30% of feature standard deviation around the range of 3 3 to 20 and remaining 70% feature standard deviation in between 0 to 2"
   ]
  },
  {
   "cell_type": "markdown",
   "id": "5cf545c8",
   "metadata": {},
   "source": [
    "## 5. Data Pre-Processing :- "
   ]
  },
  {
   "cell_type": "markdown",
   "id": "0c0d740a",
   "metadata": {},
   "source": [
    "**1. Check Missing Value :-** Their is no missing value in data"
   ]
  },
  {
   "cell_type": "markdown",
   "id": "d4fe08d8",
   "metadata": {},
   "source": [
    "**2. Categorical Data Conversion :-** Handel categorical data with the help of frequency and mannual encoding, because feature is contain lot's of labels\n",
    "\n",
    "* Mannual Encoding: Mannual encoding is a best techinque to handel categorical feature with the help of map function, map the labels based on frequency.\n",
    "\n",
    "* Frequency Encoding: Frequency encoding is an encoding technique to transform an original categorical variable to a numerical variable by considering the frequency distribution of the data getting value counts.\n",
    "\n"
   ]
  },
  {
   "cell_type": "markdown",
   "id": "16c1d645",
   "metadata": {},
   "source": [
    "**3. Outlier Handling :-** Some features are contain outliers so we are impute this outlier with the help of IQR because in all features data is not normally distributed"
   ]
  },
  {
   "cell_type": "markdown",
   "id": "20fb7c8f",
   "metadata": {},
   "source": [
    "**4. Feature Transformation :-** In YearsSinceLastPromotion some skewed & kurtosis is present, so we are use Square Root Transformation techinque\n",
    "\n",
    "* Square root transformation: Square root transformation is one of the many types of standard transformations.This transformation is used for count data (data that follow a Poisson distribution) or small whole numbers. Each data point is replaced by its square root. Negative data is converted to positive by adding a constant, and then transformed.\n",
    "* Q-Q Plot: Q–Q plot is a probability plot, a graphical method for comparing two probability distributions by plotting their quantiles against each other."
   ]
  },
  {
   "cell_type": "markdown",
   "id": "5d000cbf",
   "metadata": {},
   "source": [
    "**5. Scaling The Data :-** scaling the data with the help of Standard scalar\n",
    "\n",
    "* Standard Scaling: Standardization is the process of scaling the feature, it assumes the feature follow normal distribution and scale the feature between mean and standard deviation, here mean is 0 and standard deviation is always 1."
   ]
  },
  {
   "cell_type": "markdown",
   "id": "79ae53c6",
   "metadata": {},
   "source": [
    "## 6. Future Selection :-"
   ]
  },
  {
   "cell_type": "markdown",
   "id": "7e1a248c",
   "metadata": {},
   "source": [
    "**1. Drop unique and constant feature :-** Dropping employee number because this is a constant column as well as drop Years Since Last Promotion because we create a new feaure using square root transformation.\n",
    "\n",
    "**2. Checking Correlation :-** Checking correlation with the help of heat map, and get the their is no highly correlated feature is present.\n",
    "\n",
    "* Heatmap: A heatmap is a graphical representation of data that uses a system of color-coding to represent different values.\n",
    "\n",
    "**3. Check Duplicates :-** In this data Their is no dupicates is present.\n",
    "\n",
    "**4. PCA :-** Use pca to reduce the dimension of data, Data is contain total 27 feature after dropping unique and constant column,from PCA it shows the 25 feature has less varaince loss, so we are going to select 25 feature.\n",
    "\n",
    "* Principal component analysis (PCA) is a popular technique for analyzing large datasets containing a high number of dimensions/features per observation, increasing the interpretability of data while preserving the maximum amount of information, and enabling the visualization of multidimensional data. Formally, PCA is a statistical technique for reducing the dimensionality of a dataset.\n",
    "\n",
    "**5. Saving Pre-Process Data :-** save the all preprocess data in new file and add target feature to it."
   ]
  },
  {
   "cell_type": "markdown",
   "id": "f19ba22f",
   "metadata": {},
   "source": [
    "## 7. Machine learning Model Creation & Evaluation :-"
   ]
  },
  {
   "cell_type": "markdown",
   "id": "ecf177e5",
   "metadata": {},
   "source": [
    "**1. Define Dependant and Independant Features :-**\n",
    "\n",
    "**2. Balancing the data :-** The data is imbalance, so we need to balance the data with the help of SMOTE\n",
    "\n",
    "* SMOTE: SMOTE (synthetic minority oversampling technique) is one of the most commonly used oversampling methods to solve the imbalance problem. It aims to balance class distribution by randomly increasing minority class examples by replicating them. SMOTE synthesises new minority instances between existing minority instances.\n",
    "**3. Splitting Training And Testing Data :-** 80% data use for training & 20% data used for testing\n",
    "\n",
    "#### Algorithm :-\n",
    "**AIM :-** Create a sweet spot model (Low bias, Low variance)\n",
    "\n",
    "##### HERE WE WILL BE EXPERIMENTING WITH THREE ALGORITHM :-\n",
    "\n",
    "1. Support Vector Machine\n",
    "2. Random Forest\n",
    "3. Artificial Neural Network [MLP Classifier]\n",
    "\n",
    "* Support vector machine well perform on training data with accuracy 96.66% but the test score is 95.04 after applying Hyperparameter tunning score is 98.66 means model is overfit.\n",
    "\n",
    "* Random forest very well perform in training data with 100% accuracy but in testing 96.19% after doing hyperparameter tunning testing score is decreases.\n",
    "\n",
    "* Artifical neural network[Multilayer percepton] perform very well on training data with 99.14% accuracy and testing score is 96.76%.\n",
    "\n",
    "* So we are select Artifical neuranl network [Multilayer percepton] model."
   ]
  },
  {
   "cell_type": "markdown",
   "id": "58cd6501",
   "metadata": {},
   "source": [
    "## 8. Saving Model :-"
   ]
  },
  {
   "cell_type": "markdown",
   "id": "c7d0174e",
   "metadata": {},
   "source": [
    "* Save model with the helpof pickle file."
   ]
  },
  {
   "cell_type": "markdown",
   "id": "641eb991",
   "metadata": {},
   "source": [
    "## Tools and Library Used :-\n",
    "### Tools :-\n",
    "* Jupyter\n",
    "\n",
    "### Library Used :-\n",
    "* Pandas\n",
    "* Numpy\n",
    "* Matplotlib\n",
    "* Seaborn\n",
    "* pylab\n",
    "* Scipy\n",
    "* Sklearn\n",
    "* Pickle"
   ]
  },
  {
   "cell_type": "markdown",
   "id": "f9d9c720",
   "metadata": {},
   "source": [
    "# Goal 1 :- Department Wise Performances\n",
    "\n",
    "#### PLOT USED :-\n",
    "\n",
    "* Violinplot: It shows the distribution of quantitative data across several levels of one (or more) categorical variables such that those distributions can be compared.\n",
    "* CountPlot: countplot is used to Show the counts of observations in each categorical bin using bars.\n",
    "\n",
    "**Sales :-** The Performace rating level 3 is more in the sales department. The male performance rating the little bit higher compared to female.\n",
    "\n",
    "**Human Resources :-** The majority of the employees lying under the level 3 performance . The older people are performing low in this department. The female employees in HR department doing really well in their performance.\n",
    "\n",
    "**Development :-** The maximum number of employees are level 3 performers. Employees of all age are performing at the level of 3 only. The gender-based performance is nearly same for both.\n",
    "\n",
    "**Data Science :-** The highest average of level 3 performance is in data science department. Data science is the only department where less number of level 2 performers. The overall performance is higher compared to all departments. Male employees are doing good in this department.\n",
    "\n",
    "**Research & Development :-** The age factor is not deviating from the level of performance here where different employees with different age are there in every level of performance. The R&D has the good female employees in their performance.\n",
    "\n",
    "**Finance :-** The finance department performance is exponentially decreasing when age increases. The male employees are doing good. The experience factor is inversely relating to the performance level."
   ]
  },
  {
   "cell_type": "markdown",
   "id": "d6a815eb",
   "metadata": {},
   "source": [
    "# Goal 2 : Top 3 Important Factors effecting employee performance\n",
    "\n",
    "The top three important features affecting the performance rating are ordered with their importance level as follows,\n",
    "\n",
    "1. Employment Environment Satisfaction\n",
    "2. Employee Salary Hike Percentage\n",
    "3. Experience Years In CurrentRole\n",
    "**Employee Enviroment satisfaction :-** Maximum Number of Employees Performance Rating belongs to EmpEnvironmentSatisfaction Level 3 & Level 4, It contains 367 & 361.\n",
    "\n",
    "**Employee last salary hike percent :-** More Number of Employees whose salary hike percentage belongs to 11-19 % are getting 2 & 3 performance rating Maximum time. as well asEmployees whose salary hike percentage is in between 20-22%, There performance rating is 4.\n",
    "\n",
    "**Employee work life balance :-** In EmpWorkLifeBalance, level 3 is showing high Performance Rating of employees"
   ]
  },
  {
   "cell_type": "markdown",
   "id": "0cf65eea",
   "metadata": {},
   "source": [
    "# Goal 3 : A Trained model which can predict the employee performance\n",
    "\n",
    "The trained model is created using the machine learning algorithm as follows with the accuracy score,\n",
    "\n",
    "1. Support Vector Classifier: 98.66% accuracy\n",
    "2. Random Forest classifier: 96.19% accuracy\n",
    "3. Artifical Neural Network [Multilayer percepton]: 96.76%"
   ]
  },
  {
   "cell_type": "markdown",
   "id": "92351b5d",
   "metadata": {},
   "source": [
    "# Goal 4: Recommendations to improve the employee performance\n",
    "1. The overall employee performance can be achieved by employee environment satisfaction. The company needs to focus more on the employee environment satisfaction.\n",
    "2. The salary hike will give the boost to the employees to perform well.\n",
    "3. Promote the employee ervery 6th month\n",
    "4. Improve Employee's work-life balance this affects the performance rating.\n",
    "5. While recruiting for HR, consider the female candidates where they perform well compared to male.\n",
    "6. The development and sales department is having an overall higher performance comparing to rest of the departments.\n",
    "\n",
    "While some of the employees who gives feedback like Low & Medium from Job Satisfaction & Relationship Satisfaction feature, such employees gives Excellent performance more in number. So company should focus on them."
   ]
  },
  {
   "cell_type": "code",
   "execution_count": null,
   "id": "7e83eb6c",
   "metadata": {},
   "outputs": [],
   "source": []
  }
 ],
 "metadata": {
  "kernelspec": {
   "display_name": "Python 3 (ipykernel)",
   "language": "python",
   "name": "python3"
  },
  "language_info": {
   "codemirror_mode": {
    "name": "ipython",
    "version": 3
   },
   "file_extension": ".py",
   "mimetype": "text/x-python",
   "name": "python",
   "nbconvert_exporter": "python",
   "pygments_lexer": "ipython3",
   "version": "3.9.13"
  }
 },
 "nbformat": 4,
 "nbformat_minor": 5
}
